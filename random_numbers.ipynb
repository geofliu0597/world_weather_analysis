{
 "cells": [
  {
   "cell_type": "code",
   "execution_count": 2,
   "id": "0156b082",
   "metadata": {},
   "outputs": [],
   "source": [
    "# Import the random module.\n",
    "import random"
   ]
  },
  {
   "cell_type": "code",
   "execution_count": 5,
   "id": "539a3e0d",
   "metadata": {},
   "outputs": [
    {
     "data": {
      "text/plain": [
       "-49.91884780805435"
      ]
     },
     "execution_count": 5,
     "metadata": {},
     "output_type": "execute_result"
    }
   ],
   "source": [
    "random_number = random.randint(-90, 89) + random.random()\n",
    "random_number"
   ]
  },
  {
   "cell_type": "code",
   "execution_count": 7,
   "id": "aefb9278",
   "metadata": {},
   "outputs": [
    {
     "data": {
      "text/plain": [
       "[69.36693593878361,\n",
       " -10.946485828614936,\n",
       " 33.60674658991577,\n",
       " 88.8571217610636,\n",
       " -60.90461998537694,\n",
       " -51.196551443105264,\n",
       " 11.937844811279222,\n",
       " -53.30935113638636,\n",
       " 28.521100553299718,\n",
       " 49.890048818878746]"
      ]
     },
     "execution_count": 7,
     "metadata": {},
     "output_type": "execute_result"
    }
   ],
   "source": [
    "x = 1\n",
    "latitudes = []\n",
    "while x < 11:\n",
    "    random_lat = random.randint(-90, 89) + random.random()\n",
    "    latitudes.append(random_lat)\n",
    "    x += 1\n",
    "\n",
    "latitudes"
   ]
  },
  {
   "cell_type": "code",
   "execution_count": 8,
   "id": "4e88e86f",
   "metadata": {},
   "outputs": [
    {
     "data": {
      "text/plain": [
       "-84"
      ]
     },
     "execution_count": 8,
     "metadata": {},
     "output_type": "execute_result"
    }
   ],
   "source": [
    "random.randrange(-90, 90, step=3)"
   ]
  },
  {
   "cell_type": "code",
   "execution_count": 9,
   "id": "c15caf22",
   "metadata": {},
   "outputs": [
    {
     "data": {
      "text/plain": [
       "-78.30693325936676"
      ]
     },
     "execution_count": 9,
     "metadata": {},
     "output_type": "execute_result"
    }
   ],
   "source": [
    "random.uniform(-90, 90)"
   ]
  },
  {
   "cell_type": "code",
   "execution_count": 10,
   "id": "9f4693c5",
   "metadata": {},
   "outputs": [],
   "source": [
    "# Import the NumPy module.\n",
    "import numpy as np"
   ]
  },
  {
   "cell_type": "code",
   "execution_count": 11,
   "id": "f13670c4",
   "metadata": {},
   "outputs": [
    {
     "data": {
      "text/plain": [
       "array([ 77.7468114 , -49.90633115,  59.35792421, -42.15723892,\n",
       "        83.84863415,  54.01442189,  59.51667819,  -5.72283257,\n",
       "       -63.18244827,  79.12251837,  -8.21663174,  23.01751279,\n",
       "       -30.06787144, -63.29530958, -84.8850672 , -20.11896566,\n",
       "        15.94768348,  52.01244338, -61.40656013,  57.78265611,\n",
       "        -3.82520279, -68.74451337, -65.75288731, -46.66254987,\n",
       "       -26.17082865,  26.78984047, -78.28906998, -60.82537655,\n",
       "        77.21363187, -28.3521455 ,  49.64848577,  31.83809925,\n",
       "         4.1055771 ,  13.65920761,  57.32301552,   3.24467021,\n",
       "        -8.95394378,   6.37579921,  48.00412937, -64.02399623,\n",
       "        73.13272865,  36.88438083, -32.32320084,  82.72736392,\n",
       "       -74.51225084,  -9.04502977,  28.24335668,  74.39871284,\n",
       "       -86.10302885,  77.26692148])"
      ]
     },
     "execution_count": 11,
     "metadata": {},
     "output_type": "execute_result"
    }
   ],
   "source": [
    "np.random.uniform(-90.000, 90.000, size=50)"
   ]
  },
  {
   "cell_type": "code",
   "execution_count": 12,
   "id": "0dbc0349",
   "metadata": {},
   "outputs": [],
   "source": [
    "# Import timeit.\n",
    "import timeit"
   ]
  },
  {
   "cell_type": "code",
   "execution_count": 13,
   "id": "cd751508",
   "metadata": {},
   "outputs": [
    {
     "name": "stdout",
     "output_type": "stream",
     "text": [
      "10.9 µs ± 139 ns per loop (mean ± std. dev. of 7 runs, 100000 loops each)\n"
     ]
    }
   ],
   "source": [
    "%timeit np.random.uniform(-90.000, 90.000, size=1500)"
   ]
  },
  {
   "cell_type": "code",
   "execution_count": 14,
   "id": "b9b711b5",
   "metadata": {},
   "outputs": [
    {
     "name": "stdout",
     "output_type": "stream",
     "text": [
      "1.24 ms ± 16.3 µs per loop (mean ± std. dev. of 7 runs, 1000 loops each)\n"
     ]
    }
   ],
   "source": [
    "def latitudes(size):\n",
    "    latitudes = []\n",
    "    x = 0\n",
    "    while x < (size):\n",
    "        random_lat = random.randint(-90, 90) + random.random()\n",
    "        latitudes.append(random_lat)\n",
    "        x += 1\n",
    "    return latitudes\n",
    "# Call the function with 1500.\n",
    "%timeit latitudes(1500)"
   ]
  }
 ],
 "metadata": {
  "kernelspec": {
   "display_name": "PythonData",
   "language": "python",
   "name": "pythondata"
  },
  "language_info": {
   "codemirror_mode": {
    "name": "ipython",
    "version": 3
   },
   "file_extension": ".py",
   "mimetype": "text/x-python",
   "name": "python",
   "nbconvert_exporter": "python",
   "pygments_lexer": "ipython3",
   "version": "3.7.13"
  }
 },
 "nbformat": 4,
 "nbformat_minor": 5
}
